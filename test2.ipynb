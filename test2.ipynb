{
 "cells": [
  {
   "cell_type": "code",
   "execution_count": 1,
   "metadata": {},
   "outputs": [],
   "source": [
    "using LinearAlgebra\n",
    "using TrajectoryOptimization\n",
    "using Plots"
   ]
  },
  {
   "cell_type": "code",
   "execution_count": 2,
   "metadata": {},
   "outputs": [],
   "source": [
    "#Pauli spin matrices\n",
    "i2 = [0 -1; 1 0] #2x2 unit imaginary matrix\n",
    "Sx = [zeros(2,2) I; I zeros(2,2)]\n",
    "Sy = [zeros(2,2) -i2; i2 zeros(2,2)]\n",
    "Sz = [I zeros(2,2); zeros(2,2) -I]\n",
    "iSx = [zeros(2,2) i2; i2 zeros(2,2)]\n",
    "iSy = [zeros(2,2) I; -I zeros(2,2)]\n",
    "iSz = [i2 zeros(2,2); zeros(2,2) -i2];"
   ]
  },
  {
   "cell_type": "code",
   "execution_count": 3,
   "metadata": {},
   "outputs": [
    {
     "data": {
      "text/plain": [
       "qubit_dynamics! (generic function with 1 method)"
      ]
     },
     "execution_count": 3,
     "metadata": {},
     "output_type": "execute_result"
    }
   ],
   "source": [
    "function qubit_dynamics!(ẋ,x,u)\n",
    "      ẋ .= (Sx + u.*Sz)*x\n",
    "end"
   ]
  },
  {
   "cell_type": "code",
   "execution_count": 4,
   "metadata": {},
   "outputs": [],
   "source": [
    "n = 4 #state dimension\n",
    "m = 1 #inut dimension\n",
    "model = Model(qubit_dynamics!,n,m)\n",
    "model_d = rk4(model);"
   ]
  },
  {
   "cell_type": "code",
   "execution_count": 5,
   "metadata": {},
   "outputs": [],
   "source": [
    "dt = 0.01 #time step\n",
    "N = 101 #number of knot points\n",
    "\n",
    "x0 = [1.0, 0, 0, 0] #initial state\n",
    "xf = [1/sqrt(2), 0, 1/sqrt(2), 0] #desired final state\n",
    "\n",
    "u0 = [randn(m) for k = 1:N-1]; #random initial guess for control inputs\n",
    "\n",
    "#Set up quadratic objective function\n",
    "Q = 10.0*Diagonal(I,n)\n",
    "R = 0.001*Diagonal(I,m)\n",
    "Qf = 10.0*Diagonal(I,n)\n",
    "obj = LQRObjective(Q,R,Qf,xf,N);"
   ]
  },
  {
   "cell_type": "code",
   "execution_count": 6,
   "metadata": {},
   "outputs": [],
   "source": [
    "#Set up input constriants\n",
    "bnd = BoundConstraint(n,m,u_max=3, u_min=-3) # control limits\n",
    "goal = goal_constraint(xf) # terminal constraint\n",
    "\n",
    "constraints = Constraints(N) # define constraints at each time step\n",
    "for k = 1:N-1\n",
    "    constraints[k] += bnd\n",
    "end\n",
    "constraints[N] += goal;"
   ]
  },
  {
   "cell_type": "code",
   "execution_count": null,
   "metadata": {},
   "outputs": [],
   "source": [
    "#Set up and solve traj. opt. problem\n",
    "prob = Problem(model_d, obj, constraints=constraints, x0=x0, xf=xf, N=N, dt=dt)\n",
    "initial_controls!(prob, u0) #random guess for initial controls\n",
    "solver = solve!(prob, ALTROSolverOptions{Float64}());"
   ]
  },
  {
   "cell_type": "code",
   "execution_count": null,
   "metadata": {},
   "outputs": [],
   "source": [
    "plot(prob.X,xlabel=\"time step\",title=\"State Trajectory\",label=[\"Re(x1)\" \"Im(x1)\" \"Re(x2)\" \"Im(x2)\"])"
   ]
  },
  {
   "cell_type": "code",
   "execution_count": null,
   "metadata": {},
   "outputs": [],
   "source": [
    "plot(prob.U,xlabel=\"time step\",title=\"Control Trajectory\",label=\"u1\")"
   ]
  },
  {
   "cell_type": "code",
   "execution_count": null,
   "metadata": {},
   "outputs": [],
   "source": []
  }
 ],
 "metadata": {
  "kernelspec": {
   "display_name": "Julia 1.3.0",
   "language": "julia",
   "name": "julia-1.3"
  },
  "language_info": {
   "file_extension": ".jl",
   "mimetype": "application/julia",
   "name": "julia",
   "version": "1.3.0"
  }
 },
 "nbformat": 4,
 "nbformat_minor": 2
}
